{
 "cells": [
  {
   "cell_type": "markdown",
   "id": "04ec3cde-dd5c-4379-bf6c-85bfd3367cbb",
   "metadata": {},
   "source": [
    "# Получаем курсы валют по API"
   ]
  },
  {
   "cell_type": "markdown",
   "id": "15d12adf-b854-41f9-af63-bbd58bfe8b9e",
   "metadata": {},
   "source": [
    "**Задача:** получить актуальные значения курса валют на данный момент с использованием API."
   ]
  },
  {
   "cell_type": "markdown",
   "id": "51faf93a-dd72-4c1a-bb96-6706b44fa4e6",
   "metadata": {},
   "source": [
    "**Цель:** разобраться в принципах использования API."
   ]
  },
  {
   "cell_type": "markdown",
   "id": "b6d9b311-ccbb-41ff-b33f-0a7699ba8e05",
   "metadata": {},
   "source": [
    "## Получим набор данных с сайта *cbr-xml-daily.ru*"
   ]
  },
  {
   "cell_type": "markdown",
   "id": "691b5b3d-5449-4fae-9ab4-dfe3cbeeb0da",
   "metadata": {},
   "source": [
    "Подключаем библиотеки для осуществеления запроса и для преобразования результата в датафрейм пандас."
   ]
  },
  {
   "cell_type": "code",
   "execution_count": 182,
   "id": "c91ff673-a195-4525-9794-bbcf244ac5cd",
   "metadata": {},
   "outputs": [],
   "source": [
    "import requests\n",
    "import pandas as pd\n",
    "from datetime import datetime"
   ]
  },
  {
   "cell_type": "markdown",
   "id": "94a8f1d1-126f-494f-afa9-f856231b03e8",
   "metadata": {},
   "source": [
    "Получаем данные по API"
   ]
  },
  {
   "cell_type": "code",
   "execution_count": 183,
   "id": "2ec58e9b-e598-4269-b2a1-1902ca7f7ec7",
   "metadata": {},
   "outputs": [],
   "source": [
    "data_json = requests.get('https://www.cbr-xml-daily.ru/daily_json.js').json()"
   ]
  },
  {
   "cell_type": "markdown",
   "id": "93bbaa3f-86d6-4869-bfbc-01c83c09f764",
   "metadata": {},
   "source": [
    "Преобразовываем полученый JSON в DataFrame."
   ]
  },
  {
   "cell_type": "code",
   "execution_count": 184,
   "id": "11d2204d-78ef-4680-ba55-51cc9e1699fd",
   "metadata": {},
   "outputs": [],
   "source": [
    "data_valute = pd.DataFrame(data_json['Valute'])\n",
    "#Оставим только данные о некоторых валютах.\n",
    "data_valute = data_valute[['USD', 'EUR', 'BYN', 'KZT', 'KRW']]\n",
    "#транспонируем для удобства\n",
    "data_valute = data_valute.T"
   ]
  },
  {
   "cell_type": "markdown",
   "id": "7957aa0e-decc-4a2a-91ee-ebe11987e7c2",
   "metadata": {},
   "source": [
    "Добавим нормализинованные столбцы Value"
   ]
  },
  {
   "cell_type": "code",
   "execution_count": 185,
   "id": "057b2e41-b82d-42c4-ae79-a6d50fb9bc9b",
   "metadata": {},
   "outputs": [],
   "source": [
    "data_valute['текущее_значение'] = data_valute['Value']/data_valute['Nominal']\n",
    "data_valute['предыдущее_значение'] = data_valute['Previous']/data_valute['Nominal']"
   ]
  },
  {
   "cell_type": "markdown",
   "id": "63706b01-aeae-49c9-8bd9-07770d93394a",
   "metadata": {},
   "source": [
    "## Выведем полученные данные"
   ]
  },
  {
   "cell_type": "code",
   "execution_count": 186,
   "id": "983fbc71-550e-4b24-9984-32fd4b544b73",
   "metadata": {},
   "outputs": [
    {
     "data": {
      "text/plain": [
       "<Axes: title={'center': 'Актуальные курсы валют на 2024-02-23 11:30:00'}>"
      ]
     },
     "execution_count": 186,
     "metadata": {},
     "output_type": "execute_result"
    },
    {
     "data": {
      "image/png": "[encoded data removed]",
      "text/plain": [
       "<Figure size 1000x700 with 1 Axes>"
      ]
     },
     "metadata": {},
     "output_type": "display_data"
    }
   ],
   "source": [
    "#скорректируем формат даты\n",
    "actual_date = datetime.strptime(data_json['Date'].split('+')[0], \"%Y-%m-%dT%H:%M:%S\")\n",
    "\n",
    "data_valute[['текущее_значение', 'предыдущее_значение']].plot(kind='bar',\n",
    "                                                              title = 'Актуальные курсы валют на ' + str(actual_date),\n",
    "                                                              figsize = [10, 7],\n",
    "                                                              colormap = 'viridis',\n",
    "                                                              grid = True\n",
    "                                                              )"
   ]
  },
  {
   "cell_type": "code",
   "execution_count": 188,
   "id": "f6278b1c-d96d-42fc-8c4e-dc2f3f54d196",
   "metadata": {},
   "outputs": [
    {
     "name": "stdout",
     "output_type": "stream",
     "text": [
      "Актуальные курсы валют на 2024-02-23 11:30:00\n"
     ]
    },
    {
     "data": {
      "text/html": [
       "<div>\n",
       "<style scoped>\n",
       "    .dataframe tbody tr th:only-of-type {\n",
       "        vertical-align: middle;\n",
       "    }\n",
       "\n",
       "    .dataframe tbody tr th {\n",
       "        vertical-align: top;\n",
       "    }\n",
       "\n",
       "    .dataframe thead th {\n",
       "        text-align: right;\n",
       "    }\n",
       "</style>\n",
       "<table border=\"1\" class=\"dataframe\">\n",
       "  <thead>\n",
       "    <tr style=\"text-align: right;\">\n",
       "      <th></th>\n",
       "      <th>текущее_значение</th>\n",
       "      <th>предыдущее_значение</th>\n",
       "    </tr>\n",
       "  </thead>\n",
       "  <tbody>\n",
       "    <tr>\n",
       "      <th>USD</th>\n",
       "      <td>92.752</td>\n",
       "      <td>92.439</td>\n",
       "    </tr>\n",
       "    <tr>\n",
       "      <th>EUR</th>\n",
       "      <td>100.442</td>\n",
       "      <td>99.897</td>\n",
       "    </tr>\n",
       "    <tr>\n",
       "      <th>BYN</th>\n",
       "      <td>28.564</td>\n",
       "      <td>28.545</td>\n",
       "    </tr>\n",
       "    <tr>\n",
       "      <th>KZT</th>\n",
       "      <td>0.206</td>\n",
       "      <td>0.204</td>\n",
       "    </tr>\n",
       "    <tr>\n",
       "      <th>KRW</th>\n",
       "      <td>0.070</td>\n",
       "      <td>0.069</td>\n",
       "    </tr>\n",
       "  </tbody>\n",
       "</table>\n",
       "</div>"
      ],
      "text/plain": [
       "     текущее_значение  предыдущее_значение\n",
       "USD            92.752               92.439\n",
       "EUR           100.442               99.897\n",
       "BYN            28.564               28.545\n",
       "KZT             0.206                0.204\n",
       "KRW             0.070                0.069"
      ]
     },
     "execution_count": 188,
     "metadata": {},
     "output_type": "execute_result"
    }
   ],
   "source": [
    "#выведем заголовок\n",
    "print('Актуальные курсы валют на ' + str(actual_date))\n",
    "\n",
    "#преобразуем типы для округления\n",
    "data_valute['текущее_значение'] = data_valute['текущее_значение'].astype(float)\n",
    "data_valute['предыдущее_значение'] = data_valute['предыдущее_значение'].astype(float)\n",
    "\n",
    "#выведем таблицу\n",
    "data_valute[['текущее_значение', 'предыдущее_значение']].round(3)"
   ]
  }
 ],
 "metadata": {
  "kernelspec": {
   "display_name": "Python 3 (ipykernel)",
   "language": "python",
   "name": "python3"
  },
  "language_info": {
   "codemirror_mode": {
    "name": "ipython",
    "version": 3
   },
   "file_extension": ".py",
   "mimetype": "text/x-python",
   "name": "python",
   "nbconvert_exporter": "python",
   "pygments_lexer": "ipython3",
   "version": "3.11.1"
  }
 },
 "nbformat": 4,
 "nbformat_minor": 5
}
