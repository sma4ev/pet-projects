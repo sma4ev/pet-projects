{
 "cells": [
  {
   "cell_type": "markdown",
   "id": "04ec3cde-dd5c-4379-bf6c-85bfd3367cbb",
   "metadata": {},
   "source": [
    "# Получаем курсы валют по API"
   ]
  },
  {
   "cell_type": "markdown",
   "id": "15d12adf-b854-41f9-af63-bbd58bfe8b9e",
   "metadata": {},
   "source": [
    "**Задача:** получить актуальные значения курса валют на данный момент с использованием API из различных источников. Включая сайт ЦБ РФ, библиотеку pycbrf и запросы к сторонним сайтам."
   ]
  },
  {
   "cell_type": "markdown",
   "id": "f76e7dd6-76de-41a7-97a4-28655cf99c34",
   "metadata": {},
   "source": [
    "Список библиотек"
   ]
  },
  {
   "cell_type": "code",
   "execution_count": 145,
   "id": "c91ff673-a195-4525-9794-bbcf244ac5cd",
   "metadata": {},
   "outputs": [],
   "source": [
    "import requests\n",
    "import pandas as pd\n",
    "from datetime import datetime\n",
    "import xml.etree.ElementTree as ET\n",
    "from pycbrf import ExchangeRates, Banks"
   ]
  },
  {
   "cell_type": "markdown",
   "id": "b6d9b311-ccbb-41ff-b33f-0a7699ba8e05",
   "metadata": {},
   "source": [
    "## Получим JSON данные с сайта *cbr-xml-daily.ru*"
   ]
  },
  {
   "cell_type": "markdown",
   "id": "691b5b3d-5449-4fae-9ab4-dfe3cbeeb0da",
   "metadata": {},
   "source": [
    "Подключаем библиотеки для осуществеления запроса и для преобразования результата в датафрейм пандас."
   ]
  },
  {
   "cell_type": "markdown",
   "id": "94a8f1d1-126f-494f-afa9-f856231b03e8",
   "metadata": {},
   "source": [
    "Получаем данные по API"
   ]
  },
  {
   "cell_type": "code",
   "execution_count": 146,
   "id": "2ec58e9b-e598-4269-b2a1-1902ca7f7ec7",
   "metadata": {},
   "outputs": [],
   "source": [
    "data_json = requests.get('https://www.cbr-xml-daily.ru/daily_json.js').json()"
   ]
  },
  {
   "cell_type": "markdown",
   "id": "93bbaa3f-86d6-4869-bfbc-01c83c09f764",
   "metadata": {},
   "source": [
    "Преобразовываем полученый JSON в DataFrame."
   ]
  },
  {
   "cell_type": "code",
   "execution_count": 147,
   "id": "11d2204d-78ef-4680-ba55-51cc9e1699fd",
   "metadata": {},
   "outputs": [],
   "source": [
    "data_valute = pd.DataFrame(data_json['Valute'])\n",
    "#Оставим только данные о некоторых валютах.\n",
    "data_valute = data_valute[['USD', 'EUR', 'BYN', 'KZT', 'KRW']]\n",
    "#транспонируем для удобства\n",
    "data_valute = data_valute.T"
   ]
  },
  {
   "cell_type": "markdown",
   "id": "7957aa0e-decc-4a2a-91ee-ebe11987e7c2",
   "metadata": {},
   "source": [
    "Добавим нормализинованные столбцы Value"
   ]
  },
  {
   "cell_type": "code",
   "execution_count": 148,
   "id": "057b2e41-b82d-42c4-ae79-a6d50fb9bc9b",
   "metadata": {},
   "outputs": [],
   "source": [
    "data_valute['текущее_значение'] = data_valute['Value']/data_valute['Nominal']\n",
    "data_valute['предыдущее_значение'] = data_valute['Previous']/data_valute['Nominal']"
   ]
  },
  {
   "cell_type": "markdown",
   "id": "63706b01-aeae-49c9-8bd9-07770d93394a",
   "metadata": {},
   "source": [
    "### Выведем полученные данные"
   ]
  },
  {
   "cell_type": "code",
   "execution_count": 149,
   "id": "983fbc71-550e-4b24-9984-32fd4b544b73",
   "metadata": {},
   "outputs": [
    {
     "data": {
      "text/plain": [
       "<Axes: title={'center': 'Актуальные курсы валют на 2024-02-23 11:30:00'}>"
      ]
     },
     "execution_count": 149,
     "metadata": {},
     "output_type": "execute_result"
    },
    {
     "data": {
      "image/png": "[encoded data removed]",
      "text/plain": [
       "<Figure size 700x400 with 1 Axes>"
      ]
     },
     "metadata": {},
     "output_type": "display_data"
    }
   ],
   "source": [
    "#скорректируем формат даты\n",
    "actual_date = datetime.strptime(data_json['Date'].split('+')[0], \"%Y-%m-%dT%H:%M:%S\")\n",
    "\n",
    "data_valute[['текущее_значение', 'предыдущее_значение']].plot(kind='bar',\n",
    "                                                              title = 'Актуальные курсы валют на ' + str(actual_date),\n",
    "                                                              figsize = [7, 4],\n",
    "                                                              colormap = 'viridis',\n",
    "                                                              grid = True\n",
    "                                                              )"
   ]
  },
  {
   "cell_type": "code",
   "execution_count": 150,
   "id": "f6278b1c-d96d-42fc-8c4e-dc2f3f54d196",
   "metadata": {},
   "outputs": [
    {
     "name": "stdout",
     "output_type": "stream",
     "text": [
      "Актуальные курсы валют на 2024-02-23 11:30:00\n"
     ]
    },
    {
     "data": {
      "text/html": [
       "<div>\n",
       "<style scoped>\n",
       "    .dataframe tbody tr th:only-of-type {\n",
       "        vertical-align: middle;\n",
       "    }\n",
       "\n",
       "    .dataframe tbody tr th {\n",
       "        vertical-align: top;\n",
       "    }\n",
       "\n",
       "    .dataframe thead th {\n",
       "        text-align: right;\n",
       "    }\n",
       "</style>\n",
       "<table border=\"1\" class=\"dataframe\">\n",
       "  <thead>\n",
       "    <tr style=\"text-align: right;\">\n",
       "      <th></th>\n",
       "      <th>текущее_значение</th>\n",
       "      <th>предыдущее_значение</th>\n",
       "    </tr>\n",
       "  </thead>\n",
       "  <tbody>\n",
       "    <tr>\n",
       "      <th>USD</th>\n",
       "      <td>92.752</td>\n",
       "      <td>92.439</td>\n",
       "    </tr>\n",
       "    <tr>\n",
       "      <th>EUR</th>\n",
       "      <td>100.442</td>\n",
       "      <td>99.897</td>\n",
       "    </tr>\n",
       "    <tr>\n",
       "      <th>BYN</th>\n",
       "      <td>28.564</td>\n",
       "      <td>28.545</td>\n",
       "    </tr>\n",
       "    <tr>\n",
       "      <th>KZT</th>\n",
       "      <td>0.206</td>\n",
       "      <td>0.204</td>\n",
       "    </tr>\n",
       "    <tr>\n",
       "      <th>KRW</th>\n",
       "      <td>0.070</td>\n",
       "      <td>0.069</td>\n",
       "    </tr>\n",
       "  </tbody>\n",
       "</table>\n",
       "</div>"
      ],
      "text/plain": [
       "     текущее_значение  предыдущее_значение\n",
       "USD            92.752               92.439\n",
       "EUR           100.442               99.897\n",
       "BYN            28.564               28.545\n",
       "KZT             0.206                0.204\n",
       "KRW             0.070                0.069"
      ]
     },
     "execution_count": 150,
     "metadata": {},
     "output_type": "execute_result"
    }
   ],
   "source": [
    "#выведем заголовок\n",
    "print('Актуальные курсы валют на ' + str(actual_date))\n",
    "\n",
    "#преобразуем типы для округления\n",
    "data_valute['текущее_значение'] = data_valute['текущее_значение'].astype(float)\n",
    "data_valute['предыдущее_значение'] = data_valute['предыдущее_значение'].astype(float)\n",
    "\n",
    "#выведем таблицу\n",
    "data_valute[['текущее_значение', 'предыдущее_значение']].round(3)"
   ]
  },
  {
   "cell_type": "markdown",
   "id": "f99c4c8e-54dd-4abc-a899-13f4b8bdd91f",
   "metadata": {},
   "source": [
    "## Получим XML данные с официального сайта ЦБ РФ"
   ]
  },
  {
   "cell_type": "markdown",
   "id": "2129bf57-b2bd-4935-8da9-1aae34db7af3",
   "metadata": {},
   "source": [
    "Получим данные в формате XML."
   ]
  },
  {
   "cell_type": "code",
   "execution_count": 151,
   "id": "0504a721-d6b5-4216-bb37-1c201bcaac11",
   "metadata": {},
   "outputs": [],
   "source": [
    "cb_url_daily = 'https://www.cbr.ru/scripts/XML_daily.asp'\n",
    "res = requests.get(cb_url_daily)"
   ]
  },
  {
   "cell_type": "markdown",
   "id": "9420d59f-0abc-44c3-996e-fbe513e8fbc2",
   "metadata": {},
   "source": [
    "При помощи библиотеки *ElementTree*  преобразуем XML-верстку в dataframe"
   ]
  },
  {
   "cell_type": "code",
   "execution_count": 152,
   "id": "649b2673-e8be-4159-914c-c01120f0f254",
   "metadata": {},
   "outputs": [],
   "source": [
    "root = ET.fromstring(res.content)\n",
    "#создадим побочный лист\n",
    "data_cb_list = []\n",
    "#циклом выберем нужные значения\n",
    "for currency in root.findall('Valute'):\n",
    "    row = {\n",
    "            'Название': currency.find('Name').text,\n",
    "            'Код': currency.find('CharCode').text,\n",
    "            'Номинал': currency.find('Nominal').text,\n",
    "            'Значение': currency.find('Value').text\n",
    "        }\n",
    "    data_cb_list.append(row)\n",
    "#преобразуем лист в датафрейм\n",
    "df_cb_list = pd.DataFrame(data_cb_list)"
   ]
  },
  {
   "cell_type": "markdown",
   "id": "b503cdc0-ef75-467d-91e1-3dda1fe523fc",
   "metadata": {},
   "source": [
    "### Выведем полученные данные"
   ]
  },
  {
   "cell_type": "code",
   "execution_count": 153,
   "id": "a8bd17a9-1066-40ef-8d00-e7021eac0777",
   "metadata": {},
   "outputs": [],
   "source": [
    "#Установим сокращение валюты как индекс\n",
    "df_cb_list = df_cb_list.set_index('Код')"
   ]
  },
  {
   "cell_type": "code",
   "execution_count": 154,
   "id": "0a6b85e6-bb46-4b8f-8e58-410c34862309",
   "metadata": {},
   "outputs": [
    {
     "data": {
      "text/html": [
       "<div>\n",
       "<style scoped>\n",
       "    .dataframe tbody tr th:only-of-type {\n",
       "        vertical-align: middle;\n",
       "    }\n",
       "\n",
       "    .dataframe tbody tr th {\n",
       "        vertical-align: top;\n",
       "    }\n",
       "\n",
       "    .dataframe thead th {\n",
       "        text-align: right;\n",
       "    }\n",
       "</style>\n",
       "<table border=\"1\" class=\"dataframe\">\n",
       "  <thead>\n",
       "    <tr style=\"text-align: right;\">\n",
       "      <th></th>\n",
       "      <th>Название</th>\n",
       "      <th>Номинал</th>\n",
       "      <th>Значение</th>\n",
       "    </tr>\n",
       "    <tr>\n",
       "      <th>Код</th>\n",
       "      <th></th>\n",
       "      <th></th>\n",
       "      <th></th>\n",
       "    </tr>\n",
       "  </thead>\n",
       "  <tbody>\n",
       "    <tr>\n",
       "      <th>AUD</th>\n",
       "      <td>Австралийский доллар</td>\n",
       "      <td>1</td>\n",
       "      <td>60,8360</td>\n",
       "    </tr>\n",
       "    <tr>\n",
       "      <th>AZN</th>\n",
       "      <td>Азербайджанский манат</td>\n",
       "      <td>1</td>\n",
       "      <td>54,5599</td>\n",
       "    </tr>\n",
       "    <tr>\n",
       "      <th>GBP</th>\n",
       "      <td>Фунт стерлингов Соединенного королевства</td>\n",
       "      <td>1</td>\n",
       "      <td>116,9787</td>\n",
       "    </tr>\n",
       "    <tr>\n",
       "      <th>AMD</th>\n",
       "      <td>Армянских драмов</td>\n",
       "      <td>100</td>\n",
       "      <td>22,9380</td>\n",
       "    </tr>\n",
       "    <tr>\n",
       "      <th>BYN</th>\n",
       "      <td>Белорусский рубль</td>\n",
       "      <td>1</td>\n",
       "      <td>28,5645</td>\n",
       "    </tr>\n",
       "  </tbody>\n",
       "</table>\n",
       "</div>"
      ],
      "text/plain": [
       "                                     Название Номинал  Значение\n",
       "Код                                                            \n",
       "AUD                      Австралийский доллар       1   60,8360\n",
       "AZN                     Азербайджанский манат       1   54,5599\n",
       "GBP  Фунт стерлингов Соединенного королевства       1  116,9787\n",
       "AMD                          Армянских драмов     100   22,9380\n",
       "BYN                         Белорусский рубль       1   28,5645"
      ]
     },
     "execution_count": 154,
     "metadata": {},
     "output_type": "execute_result"
    }
   ],
   "source": [
    "df_cb_list.head()"
   ]
  },
  {
   "cell_type": "markdown",
   "id": "15d06ce9-de7a-4880-b64d-6403eeee00c0",
   "metadata": {},
   "source": [
    "Выведем текущий курс USD."
   ]
  },
  {
   "cell_type": "code",
   "execution_count": 155,
   "id": "12d6b1aa-bb23-41ac-90b4-7e34b260370b",
   "metadata": {},
   "outputs": [
    {
     "name": "stdout",
     "output_type": "stream",
     "text": [
      "Текущий курс валюты: Доллар США по данным ЦБ равен 92,7519 р.\n"
     ]
    }
   ],
   "source": [
    "print('Текущий курс валюты: {} по данным ЦБ равен {} р.'.format(df_cb_list['Название']['USD'], df_cb_list['Значение']['USD']))"
   ]
  },
  {
   "cell_type": "markdown",
   "id": "ac1060e3-9dc4-4ce4-b85d-3810b95a7a83",
   "metadata": {},
   "source": [
    "## Получим данные через библиотеку pycbr"
   ]
  },
  {
   "cell_type": "markdown",
   "id": "e6754b3f-fcfe-4134-97f9-7256241ce7ff",
   "metadata": {},
   "source": [
    "Получим актуальную информацию из библиотеки pycbr на текущую дату."
   ]
  },
  {
   "cell_type": "code",
   "execution_count": 156,
   "id": "5cf0d5ef-5786-43a4-9e8d-ae0652214b06",
   "metadata": {},
   "outputs": [],
   "source": [
    "#создадим обект rates с информацией о различных валютах на текущее время\n",
    "rates = ExchangeRates(datetime.now().date())"
   ]
  },
  {
   "cell_type": "markdown",
   "id": "29023acd-7d4b-427b-883c-e46f8e43a914",
   "metadata": {},
   "source": [
    "### Выведем полученные данные"
   ]
  },
  {
   "cell_type": "markdown",
   "id": "77454f73-ffea-4cdf-92b8-1814a3447511",
   "metadata": {},
   "source": [
    "Выведем несколько курсов валют."
   ]
  },
  {
   "cell_type": "code",
   "execution_count": 157,
   "id": "e29bf75e-8316-4bee-84f8-1ce3745eca8d",
   "metadata": {},
   "outputs": [
    {
     "name": "stdout",
     "output_type": "stream",
     "text": [
      "Текущий курс валюты: Доллар США по данным ЦБ равен 92.7519 р.\n",
      "Текущий курс валюты: Евро по данным ЦБ равен 100.4425 р.\n",
      "Текущий курс валюты: Казахстанских тенге по данным ЦБ равен 0.20575 р.\n"
     ]
    }
   ],
   "source": [
    "#создадим список с интересующими валютами\n",
    "currencies = ['USD', 'EUR', 'KZT']\n",
    "\n",
    "#выведем в цикле все валюты из списка\n",
    "for curr_name in currencies:\n",
    "    #выводим rate\n",
    "    print('Текущий курс валюты: {} по данным ЦБ равен {} р.'.format(rates[curr_name].name, rates[curr_name].rate))"
   ]
  }
 ],
 "metadata": {
  "kernelspec": {
   "display_name": "Python 3 (ipykernel)",
   "language": "python",
   "name": "python3"
  },
  "language_info": {
   "codemirror_mode": {
    "name": "ipython",
    "version": 3
   },
   "file_extension": ".py",
   "mimetype": "text/x-python",
   "name": "python",
   "nbconvert_exporter": "python",
   "pygments_lexer": "ipython3",
   "version": "3.11.1"
  }
 },
 "nbformat": 4,
 "nbformat_minor": 5
}
